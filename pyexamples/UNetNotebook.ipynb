{
 "cells": [
  {
   "cell_type": "code",
   "execution_count": null,
   "metadata": {},
   "outputs": [],
   "source": [
    "import sys, os\n",
    "PLOTNN_DIR = os.path.join('..')\n",
    "sys.path.append(PLOTNN_DIR)\n",
    "from pycore.tikzeng import *\n",
    "from pycore.blocks  import *\n",
    "from IPython.display import display_pdf, FileLink"
   ]
  },
  {
   "cell_type": "code",
   "execution_count": null,
   "metadata": {},
   "outputs": [],
   "source": [
    "arch = [ \n",
    "    to_head(PLOTNN_DIR), \n",
    "    to_cor(),\n",
    "    to_begin(),\n",
    "    \n",
    "    #input\n",
    "    to_input( os.path.join(PLOTNN_DIR, 'examples/fcn8s/cats.jpg') ),\n",
    "\n",
    "    #block-001\n",
    "    to_ConvConvRelu( name='ccr_b1', output_size=500, n_filters=(64,64), offset=\"(0,0,0)\", to=\"(0,0,0)\", width=(2,2), height=40, depth=40  ),\n",
    "    to_Pool(name=\"pool_b1\", offset=\"(0,0,0)\", to=\"(ccr_b1-east)\", width=1, height=32, depth=32, opacity=0.5),\n",
    "    \n",
    "    *block_2ConvPool( name='b2', connect_in='pool_b1', connect_out='pool_b2', output_size=256, n_filters=128, offset=\"(1,0,0)\", size=(32,32,3.5), opacity=0.5 ),\n",
    "    *block_2ConvPool( name='b3', connect_in='pool_b2', connect_out='pool_b3', output_size=128, n_filters=256, offset=\"(1,0,0)\", size=(25,25,4.5), opacity=0.5 ),\n",
    "    *block_2ConvPool( name='b4', connect_in='pool_b3', connect_out='pool_b4', output_size=64,  n_filters=512, offset=\"(1,0,0)\", size=(16,16,5.5), opacity=0.5 ),\n",
    "\n",
    "    #Bottleneck\n",
    "    #block-005\n",
    "    to_ConvConvRelu( name='ccr_b5', output_size=32, n_filters=(1024,1024), offset=\"(2,0,0)\", to=\"(pool_b4-east)\", width=(8,8), height=8, depth=8, caption=\"Bottleneck\"  ),\n",
    "    to_connection( \"pool_b4\", \"ccr_b5\"),\n",
    "\n",
    "    #Decoder\n",
    "    *block_Unconv( name=\"b6\", connect_in=\"ccr_b5\", connect_out='end_b6', output_size=64,  n_filters=512, offset=\"(2.1,0,0)\", size=(16,16,5.0), opacity=0.5 ),\n",
    "    to_skip( of='ccr_b4', to='ccr_res_b6', pos=1.25),\n",
    "    *block_Unconv( name=\"b7\", connect_in=\"end_b6\", connect_out='end_b7', output_size=128, n_filters=256, offset=\"(2.1,0,0)\", size=(25,25,4.5), opacity=0.5 ),\n",
    "    to_skip( of='ccr_b3', to='ccr_res_b7', pos=1.25),    \n",
    "    *block_Unconv( name=\"b8\", connect_in=\"end_b7\", connect_out='end_b8', output_size=256, n_filters=128, offset=\"(2.1,0,0)\", size=(32,32,3.5), opacity=0.5 ),\n",
    "    to_skip( of='ccr_b2', to='ccr_res_b8', pos=1.25),    \n",
    "    \n",
    "    *block_Unconv( name=\"b9\", connect_in=\"end_b8\", connect_out='end_b9', output_size=512, n_filters=64,  offset=\"(2.1,0,0)\", size=(40,40,2.5), opacity=0.5 ),\n",
    "    to_skip( of='ccr_b1', to='ccr_res_b9', pos=1.25),\n",
    "    \n",
    "    to_ConvSoftMax( name=\"soft1\", output_size=512, offset=\"(0.75,0,0)\", to=\"(end_b9-east)\", width=1, height=40, depth=40, caption=\"SOFT\" ),\n",
    "    to_connection( \"end_b9\", \"soft1\"),\n",
    "     \n",
    "    to_end() \n",
    "    ]"
   ]
  },
  {
   "cell_type": "code",
   "execution_count": null,
   "metadata": {},
   "outputs": [],
   "source": [
    "to_generate(arch, os.path.join(PLOTNN_DIR, 'u_out.tex'))"
   ]
  },
  {
   "cell_type": "code",
   "execution_count": null,
   "metadata": {},
   "outputs": [],
   "source": [
    "!pdflatex {os.path.join(PLOTNN_DIR, 'u_out.tex')}"
   ]
  },
  {
   "cell_type": "code",
   "execution_count": null,
   "metadata": {},
   "outputs": [],
   "source": [
    "FileLink('u_out.pdf')"
   ]
  },
  {
   "cell_type": "code",
   "execution_count": null,
   "metadata": {},
   "outputs": [],
   "source": []
  }
 ],
 "metadata": {
  "kernelspec": {
   "display_name": "Python 3",
   "language": "python",
   "name": "python3"
  },
  "language_info": {
   "codemirror_mode": {
    "name": "ipython",
    "version": 3
   },
   "file_extension": ".py",
   "mimetype": "text/x-python",
   "name": "python",
   "nbconvert_exporter": "python",
   "pygments_lexer": "ipython3",
   "version": "3.6.7"
  }
 },
 "nbformat": 4,
 "nbformat_minor": 2
}
